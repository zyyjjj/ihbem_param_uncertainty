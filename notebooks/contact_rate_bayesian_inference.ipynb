{
 "cells": [
  {
   "attachments": {},
   "cell_type": "markdown",
   "metadata": {},
   "source": [
    "# TLDR\n",
    "\n",
    "The contact distribution from positive cases is a biased representation of the underlying contact distribution of the population. (People with more contacts are more likely to become infected and contribute to the observed contact distribution, and vice versa.)\n",
    "\n",
    "We would like to use Bayesian inference to obtain a more accurate underlying contact distribution. "
   ]
  },
  {
   "cell_type": "code",
   "execution_count": 29,
   "metadata": {},
   "outputs": [
    {
     "name": "stdout",
     "output_type": "stream",
     "text": [
      "The autoreload extension is already loaded. To reload it, use:\n",
      "  %reload_ext autoreload\n"
     ]
    }
   ],
   "source": [
    "%load_ext autoreload\n",
    "%autoreload 2\n",
    "\n",
    "import numpy as np\n",
    "\n",
    "import pyro\n",
    "import pyro.distributions as dist\n",
    "from pyro.infer import MCMC, NUTS, SVI, Trace_ELBO, Predictive\n",
    "\n",
    "import torch\n",
    "import pandas as pd\n",
    "import time"
   ]
  },
  {
   "cell_type": "code",
   "execution_count": 30,
   "metadata": {},
   "outputs": [],
   "source": [
    "def observe_contact_distribution(N: int, lamda: float, beta: float, data: torch.Tensor =None):\n",
    "\n",
    "    r\"\"\" \n",
    "    Args:\n",
    "        N: population size\n",
    "        lamda: prevalence\n",
    "        beta: probability of infection given contact with positive\n",
    "    \"\"\"\n",
    "\n",
    "    # p = distribution of the number of contacts of a person; use Dirichlet prior\n",
    "    p = pyro.sample(\n",
    "        'p', \n",
    "        dist.Dirichlet(concentration=torch.tensor([0.1, 0.1, 0.1])), \n",
    "    )\n",
    "    binomial_counts = pyro.deterministic(\"binomial_counts\", (N*p).int())\n",
    "    \n",
    "    # print('p', p)\n",
    "    # print('binomial_counts', binomial_counts)\n",
    "\n",
    "    p_inf = 1-(1-lamda*beta)**torch.arange(3)\n",
    "\n",
    "    with pyro.plate('data'):\n",
    "        obs = pyro.sample(\n",
    "            'obs', \n",
    "            dist.Binomial(\n",
    "                total_count=binomial_counts, \n",
    "                probs=p_inf),\n",
    "            obs=data \n",
    "        )\n",
    "    return obs"
   ]
  },
  {
   "cell_type": "code",
   "execution_count": 39,
   "metadata": {},
   "outputs": [],
   "source": [
    "N=200 # population size\n",
    "lamda = 0.1 # prevalence\n",
    "beta=0.1 # probability of infection given contact with positive person\n",
    "y = torch.tensor([5,5,10]) # observed contact distribution, i.e., 5 have 0, 5 have 1, 10 have 2 contacts\n",
    "\n",
    "nuts_kernel = NUTS(observe_contact_distribution) # also called \"sampler\"\n",
    "mcmc = MCMC(nuts_kernel, warmup_steps=100, num_samples=500)\n"
   ]
  },
  {
   "cell_type": "code",
   "execution_count": 40,
   "metadata": {},
   "outputs": [
    {
     "name": "stderr",
     "output_type": "stream",
     "text": [
      "Sample: 100%|██████████| 600/600 [39:47,  3.98s/it, step size=8.08e-04, acc. prob=0.862]"
     ]
    },
    {
     "name": "stdout",
     "output_type": "stream",
     "text": [
      "Took 2387.341058731079 seconds\n"
     ]
    },
    {
     "name": "stderr",
     "output_type": "stream",
     "text": [
      "\n"
     ]
    }
   ],
   "source": [
    "start_time = time.time()\n",
    "mcmc.run(N, lamda, beta, y)\n",
    "print(f\"Took {time.time()-start_time} seconds\")"
   ]
  },
  {
   "cell_type": "code",
   "execution_count": 41,
   "metadata": {},
   "outputs": [],
   "source": [
    "hmc_samples = {k: v.detach().cpu().numpy() for k, v in mcmc.get_samples().items()}\n"
   ]
  },
  {
   "cell_type": "code",
   "execution_count": 42,
   "metadata": {},
   "outputs": [],
   "source": [
    "# Utility function to print latent sites' quantile information.\n",
    "def summary(samples):\n",
    "    site_stats = {}\n",
    "    for site_name, values in samples.items():\n",
    "        marginal_site = pd.DataFrame(values)\n",
    "        describe = marginal_site.describe(percentiles=[.05, 0.25, 0.5, 0.75, 0.95]).transpose()\n",
    "        site_stats[site_name] = describe[[\"mean\", \"std\", \"5%\", \"25%\", \"50%\", \"75%\", \"95%\"]]\n",
    "    return site_stats"
   ]
  },
  {
   "cell_type": "code",
   "execution_count": 43,
   "metadata": {},
   "outputs": [
    {
     "name": "stdout",
     "output_type": "stream",
     "text": [
      "Site: p\n",
      "       mean       std        5%       25%       50%       75%       95%\n",
      "0  0.314451  0.089374  0.183863  0.251462  0.307641  0.376311  0.466320\n",
      "1  0.245077  0.097898  0.122148  0.175583  0.218205  0.305509  0.425191\n",
      "2  0.440472  0.111015  0.254480  0.370630  0.440094  0.504709  0.638854 \n",
      "\n"
     ]
    }
   ],
   "source": [
    "for site, values in summary(hmc_samples).items():\n",
    "    print(\"Site: {}\".format(site))\n",
    "    print(values, \"\\n\")"
   ]
  },
  {
   "cell_type": "code",
   "execution_count": null,
   "metadata": {},
   "outputs": [],
   "source": []
  }
 ],
 "metadata": {
  "kernelspec": {
   "display_name": "param_uncertainty",
   "language": "python",
   "name": "python3"
  },
  "language_info": {
   "codemirror_mode": {
    "name": "ipython",
    "version": 3
   },
   "file_extension": ".py",
   "mimetype": "text/x-python",
   "name": "python",
   "nbconvert_exporter": "python",
   "pygments_lexer": "ipython3",
   "version": "3.9.16"
  },
  "orig_nbformat": 4
 },
 "nbformat": 4,
 "nbformat_minor": 2
}
