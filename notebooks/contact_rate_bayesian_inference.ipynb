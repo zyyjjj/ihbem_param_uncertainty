{
 "cells": [
  {
   "attachments": {},
   "cell_type": "markdown",
   "metadata": {},
   "source": [
    "# TLDR\n",
    "\n",
    "The contact distribution from positive cases is a biased representation of the underlying contact distribution of the population. (People with more contacts are more likely to become infected and contribute to the observed contact distribution, and vice versa.)\n",
    "\n",
    "We would like to use Bayesian inference to obtain a more accurate underlying contact distribution. "
   ]
  },
  {
   "cell_type": "code",
   "execution_count": 18,
   "metadata": {},
   "outputs": [
    {
     "name": "stdout",
     "output_type": "stream",
     "text": [
      "The autoreload extension is already loaded. To reload it, use:\n",
      "  %reload_ext autoreload\n"
     ]
    }
   ],
   "source": [
    "%load_ext autoreload\n",
    "%autoreload 2\n",
    "\n",
    "import numpy as np\n",
    "\n",
    "import pyro\n",
    "import pyro.distributions as dist\n",
    "from pyro.infer import MCMC, NUTS, SVI, Trace_ELBO, Predictive\n",
    "\n",
    "import torch\n",
    "import pandas as pd\n",
    "import time\n",
    "\n",
    "import matplotlib.pyplot as plt"
   ]
  },
  {
   "cell_type": "code",
   "execution_count": 8,
   "metadata": {},
   "outputs": [],
   "source": [
    "def observe_contact_distribution(\n",
    "        N: int, # population size\n",
    "        lamda: float, # prevalence\n",
    "        beta: float, # prob infection given contact with positive person\n",
    "        concentration: torch.Tensor, # concentration of Dirichlet prior for p \n",
    "        data: torch.Tensor = None # observed data\n",
    "    ):\n",
    "\n",
    "    # contact distribution\n",
    "    p = pyro.sample(\n",
    "        'p', \n",
    "        dist.Dirichlet(concentration=concentration), \n",
    "    )\n",
    "    binomial_counts = pyro.deterministic(\"binomial_counts\", (N*p).int())\n",
    "    \n",
    "    p_inf = 1-(1-lamda*beta)**torch.arange(3)\n",
    "\n",
    "    with pyro.plate('data'):\n",
    "        obs = pyro.sample(\n",
    "            'obs', \n",
    "            dist.Binomial(\n",
    "                total_count=binomial_counts, \n",
    "                probs=p_inf),\n",
    "            obs=data \n",
    "        )\n",
    "    return obs"
   ]
  },
  {
   "cell_type": "code",
   "execution_count": 9,
   "metadata": {},
   "outputs": [],
   "source": [
    "N=200 \n",
    "lamda=0.05 \n",
    "beta=0.1 \n",
    "concentration=torch.Tensor([1,1,1]) \n",
    "\n",
    "# observed contact distribution, \n",
    "# i.e., 5 have 0, 5 have 1, 10 have 2 contacts\n",
    "y=torch.tensor([5,5,10]) \n",
    "\n",
    "\n",
    "nuts_kernel = NUTS(observe_contact_distribution) # also called \"sampler\"\n",
    "mcmc = MCMC(nuts_kernel, warmup_steps=100, num_samples=500)\n"
   ]
  },
  {
   "cell_type": "code",
   "execution_count": 10,
   "metadata": {},
   "outputs": [
    {
     "name": "stderr",
     "output_type": "stream",
     "text": [
      "Sample: 100%|██████████| 600/600 [35:41,  3.57s/it, step size=7.49e-03, acc. prob=0.483]"
     ]
    },
    {
     "name": "stdout",
     "output_type": "stream",
     "text": [
      "Took 2141.3156826496124 seconds\n"
     ]
    },
    {
     "name": "stderr",
     "output_type": "stream",
     "text": [
      "\n"
     ]
    }
   ],
   "source": [
    "start_time = time.time()\n",
    "mcmc.run(N, lamda, beta, concentration, y)\n",
    "print(f\"Took {time.time()-start_time} seconds\")"
   ]
  },
  {
   "cell_type": "code",
   "execution_count": 11,
   "metadata": {},
   "outputs": [],
   "source": [
    "hmc_samples = {k: v.detach().cpu().numpy() for k, v in mcmc.get_samples().items()}\n"
   ]
  },
  {
   "cell_type": "code",
   "execution_count": 27,
   "metadata": {},
   "outputs": [],
   "source": [
    "# Utility function to print latent sites' quantile information.\n",
    "def summary(samples):\n",
    "    site_stats = {}\n",
    "    for site_name, values in samples.items():\n",
    "        marginal_site = pd.DataFrame(values)\n",
    "        describe = marginal_site.describe(percentiles=[.05, 0.25, 0.5, 0.75, 0.95]).transpose()\n",
    "        site_stats[site_name] = describe[[\"mean\", \"std\", \"5%\", \"25%\", \"50%\", \"75%\", \"95%\"]]\n",
    "    return site_stats"
   ]
  },
  {
   "cell_type": "code",
   "execution_count": 12,
   "metadata": {},
   "outputs": [
    {
     "name": "stdout",
     "output_type": "stream",
     "text": [
      "Site: p\n",
      "       mean       std        5%       25%       50%       75%       95%\n",
      "0  0.265131  0.090866  0.122062  0.202133  0.259273  0.320654  0.426147\n",
      "1  0.264431  0.087584  0.135061  0.205940  0.258911  0.312895  0.411339\n",
      "2  0.470438  0.104668  0.303161  0.403262  0.468654  0.538124  0.654683 \n",
      "\n"
     ]
    }
   ],
   "source": [
    "for site, values in summary(hmc_samples).items():\n",
    "    print(\"Site: {}\".format(site))\n",
    "    print(values, \"\\n\")"
   ]
  },
  {
   "cell_type": "code",
   "execution_count": 26,
   "metadata": {},
   "outputs": [
    {
     "data": {
      "text/plain": [
       "Text(0.5, 1.0, 'Posterior distribution of p')"
      ]
     },
     "execution_count": 26,
     "metadata": {},
     "output_type": "execute_result"
    },
    {
     "data": {
      "image/png": "[encoded data removed]",
      "text/plain": [
       "<Figure size 432x288 with 1 Axes>"
      ]
     },
     "metadata": {
      "needs_background": "light"
     },
     "output_type": "display_data"
    }
   ],
   "source": [
    "\n",
    "colors_dict = {0: \"blue\", 1: \"orange\", 2: \"green\"}\n",
    "\n",
    "for i in range(3):\n",
    "    plt.hist(hmc_samples['p'][:,i], alpha = 0.5, color=colors_dict[i])\n",
    "    med = np.median(hmc_samples['p'][:,i])\n",
    "    plt.axvline(\n",
    "        med, \n",
    "        color = colors_dict[i], linestyle = 'dashed', linewidth = 2,\n",
    "        label = f'p_{i} median = {med:.2f}'\n",
    "        )\n",
    "\n",
    "plt.legend()\n",
    "\n",
    "plt.title(\"Posterior distribution of p\")"
   ]
  },
  {
   "cell_type": "code",
   "execution_count": null,
   "metadata": {},
   "outputs": [],
   "source": []
  }
 ],
 "metadata": {
  "kernelspec": {
   "display_name": "param_uncertainty",
   "language": "python",
   "name": "python3"
  },
  "language_info": {
   "codemirror_mode": {
    "name": "ipython",
    "version": 3
   },
   "file_extension": ".py",
   "mimetype": "text/x-python",
   "name": "python",
   "nbconvert_exporter": "python",
   "pygments_lexer": "ipython3",
   "version": "3.9.16"
  },
  "orig_nbformat": 4
 },
 "nbformat": 4,
 "nbformat_minor": 2
}
