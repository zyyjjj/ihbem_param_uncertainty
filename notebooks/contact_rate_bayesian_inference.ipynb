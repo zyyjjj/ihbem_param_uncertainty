{
 "cells": [
  {
   "attachments": {},
   "cell_type": "markdown",
   "metadata": {},
   "source": [
    "# TLDR\n",
    "\n",
    "The contact distribution from positive cases is a biased representation of the underlying contact distribution of the population. (People with more contacts are more likely to become infected and contribute to the observed contact distribution, and vice versa.)\n",
    "\n",
    "We would like to use Bayesian inference to obtain a more accurate underlying contact distribution. "
   ]
  },
  {
   "cell_type": "code",
   "execution_count": 29,
   "metadata": {},
   "outputs": [
    {
     "name": "stdout",
     "output_type": "stream",
     "text": [
      "The autoreload extension is already loaded. To reload it, use:\n",
      "  %reload_ext autoreload\n"
     ]
    }
   ],
   "source": [
    "%load_ext autoreload\n",
    "%autoreload 2\n",
    "\n",
    "import numpy as np\n",
    "\n",
    "import pyro\n",
    "import pyro.distributions as dist\n",
    "from pyro.infer import MCMC, NUTS, SVI, Trace_ELBO, Predictive\n",
    "\n",
    "import torch\n",
    "import pandas as pd\n",
    "import time"
   ]
  },
  {
   "cell_type": "code",
   "execution_count": 30,
   "metadata": {},
   "outputs": [],
   "source": [
    "def observe_contact_distribution(N: int, lamda: float, beta: float, data: torch.Tensor =None):\n",
    "\n",
    "    r\"\"\" \n",
    "    Args:\n",
    "        N: population size\n",
    "        lamda: prevalence\n",
    "        beta: probability of infection given contact with positive\n",
    "    \"\"\"\n",
    "\n",
    "    # p = distribution of the number of contacts of a person; use Dirichlet prior\n",
    "    p = pyro.sample(\n",
    "        'p', \n",
    "        dist.Dirichlet(concentration=torch.tensor([0.1, 0.1, 0.1])), \n",
    "    )\n",
    "    binomial_counts = pyro.deterministic(\"binomial_counts\", (N*p).int())\n",
    "    \n",
    "    # print('p', p)\n",
    "    # print('binomial_counts', binomial_counts)\n",
    "\n",
    "    p_inf = 1-(1-lamda*beta)**torch.arange(3)\n",
    "\n",
    "    with pyro.plate('data'):\n",
    "        obs = pyro.sample(\n",
    "            'obs', \n",
    "            dist.Binomial(\n",
    "                total_count=binomial_counts, # this throws an error\n",
    "                # total_count=20, # this runs\n",
    "                probs=p_inf),\n",
    "            obs=data \n",
    "        )\n",
    "    return obs"
   ]
  },
  {
   "cell_type": "code",
   "execution_count": 31,
   "metadata": {},
   "outputs": [],
   "source": [
    "N=200 # population size\n",
    "lamda = 0.1 # prevalence\n",
    "beta=0.1 # probability of infection given contact with positive person\n",
    "y = torch.tensor([5,5,10]) # observed contact distribution, i.e., 5 have 0, 5 have 1, 10 have 2 contacts\n",
    "# y = torch.tensor([5])\n",
    "\n",
    "nuts_kernel = NUTS(observe_contact_distribution) # also called \"sampler\"\n",
    "mcmc = MCMC(nuts_kernel, warmup_steps=5, num_samples=10)\n"
   ]
  },
  {
   "cell_type": "code",
   "execution_count": 32,
   "metadata": {},
   "outputs": [
    {
     "name": "stderr",
     "output_type": "stream",
     "text": [
      "Sample: 100%|██████████| 15/15 [00:01, 12.16it/s, step size=1.53e-01, acc. prob=0.306]"
     ]
    },
    {
     "name": "stdout",
     "output_type": "stream",
     "text": [
      "Took 1.2381768226623535 seconds\n"
     ]
    },
    {
     "name": "stderr",
     "output_type": "stream",
     "text": [
      "\n"
     ]
    }
   ],
   "source": [
    "start_time = time.time()\n",
    "mcmc.run(N, lamda, beta, y)\n",
    "print(f\"Took {time.time()-start_time} seconds\")"
   ]
  },
  {
   "cell_type": "code",
   "execution_count": 33,
   "metadata": {},
   "outputs": [],
   "source": [
    "hmc_samples = {k: v.detach().cpu().numpy() for k, v in mcmc.get_samples().items()}\n"
   ]
  },
  {
   "cell_type": "code",
   "execution_count": 34,
   "metadata": {},
   "outputs": [],
   "source": [
    "# Utility function to print latent sites' quantile information.\n",
    "def summary(samples):\n",
    "    site_stats = {}\n",
    "    for site_name, values in samples.items():\n",
    "        marginal_site = pd.DataFrame(values)\n",
    "        describe = marginal_site.describe(percentiles=[.05, 0.25, 0.5, 0.75, 0.95]).transpose()\n",
    "        site_stats[site_name] = describe[[\"mean\", \"std\", \"5%\", \"25%\", \"50%\", \"75%\", \"95%\"]]\n",
    "    return site_stats"
   ]
  },
  {
   "cell_type": "code",
   "execution_count": 35,
   "metadata": {},
   "outputs": [
    {
     "name": "stdout",
     "output_type": "stream",
     "text": [
      "Site: p\n",
      "       mean       std        5%       25%       50%       75%       95%\n",
      "0  0.290979  0.101167  0.147689  0.206078  0.306563  0.381423  0.402956\n",
      "1  0.158898  0.084343  0.080959  0.088198  0.148454  0.197475  0.286960\n",
      "2  0.550123  0.086977  0.440032  0.507497  0.519916  0.635689  0.654871 \n",
      "\n"
     ]
    }
   ],
   "source": [
    "for site, values in summary(hmc_samples).items():\n",
    "    print(\"Site: {}\".format(site))\n",
    "    print(values, \"\\n\")"
   ]
  },
  {
   "cell_type": "code",
   "execution_count": null,
   "metadata": {},
   "outputs": [],
   "source": []
  }
 ],
 "metadata": {
  "kernelspec": {
   "display_name": "param_uncertainty",
   "language": "python",
   "name": "python3"
  },
  "language_info": {
   "codemirror_mode": {
    "name": "ipython",
    "version": 3
   },
   "file_extension": ".py",
   "mimetype": "text/x-python",
   "name": "python",
   "nbconvert_exporter": "python",
   "pygments_lexer": "ipython3",
   "version": "3.9.16"
  },
  "orig_nbformat": 4
 },
 "nbformat": 4,
 "nbformat_minor": 2
}
